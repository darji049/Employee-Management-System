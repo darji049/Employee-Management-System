{
 "cells": [
  {
   "cell_type": "code",
   "execution_count": 1,
   "id": "85bb5b54-e99c-4583-ab24-19247a9483bd",
   "metadata": {},
   "outputs": [],
   "source": [
    "# Employee Management System (EMS) "
   ]
  },
  {
   "cell_type": "code",
   "execution_count": null,
   "id": "86e440e3-2ac9-4ca7-a34d-5b462bdbe3d8",
   "metadata": {},
   "outputs": [],
   "source": [
    "# Step 1: Initialize Employee Data\n",
    "employees = {\n",
    "    101: {'name': 'Satya', 'age': 27, 'department': 'HR', 'salary': 50000},\n",
    "    102: {'name': 'Ramesh', 'age': 35, 'department': 'Finance', 'salary': 60000},\n",
    "}"
   ]
  },
  {
   "cell_type": "code",
   "execution_count": null,
   "id": "7823f2c5-62b3-4937-8247-8c5461e331af",
   "metadata": {},
   "outputs": [],
   "source": [
    "# Step 2: Define Menu System\n",
    "def main_menu():\n",
    "    while True:\n",
    "        print(\"\\n=== Employee Management System ===\")\n",
    "        print(\"1. Add Employee\")\n",
    "        print(\"2. View All Employees\")\n",
    "        print(\"3. Search for Employee\")\n",
    "        print(\"4. Exit\")\n",
    "        choice = input(\"Enter your choice: \")\n",
    "        \n",
    "        if choice == '1':\n",
    "            add_employee()\n",
    "        elif choice == '2':\n",
    "            view_employees()\n",
    "        elif choice == '3':\n",
    "            search_employee()\n",
    "        elif choice == '4':\n",
    "            print(\"Thank you for using the Employee Management System!\")\n",
    "            break\n",
    "        else:\n",
    "            print(\"Invalid choice. Please try again.\")"
   ]
  },
  {
   "cell_type": "code",
   "execution_count": null,
   "id": "b8de697a-a146-4b39-b55e-430b83593c45",
   "metadata": {},
   "outputs": [],
   "source": [
    "# Step 3: Add Employee Functionality\n",
    "def add_employee():\n",
    "    try:\n",
    "        emp_id = int(input(\"Enter Employee ID: \"))\n",
    "        if emp_id in employees:\n",
    "            print(\"Employee ID already exists. Please use a unique ID.\")\n",
    "            return\n",
    "        \n",
    "        name = input(\"Enter Employee Name: \")\n",
    "        age = int(input(\"Enter Employee Age: \"))\n",
    "        department = input(\"Enter Employee Department: \")\n",
    "        salary = float(input(\"Enter Employee Salary: \"))\n",
    "        \n",
    "        employees[emp_id] = {'name': name, 'age': age, 'department': department, 'salary': salary}\n",
    "        print(f\"Employee {name} added successfully!\")\n",
    "    except ValueError:\n",
    "        print(\"Invalid input. Please enter correct details.\")"
   ]
  },
  {
   "cell_type": "code",
   "execution_count": null,
   "id": "4c8d3f71-8617-49a0-b109-cebd15435943",
   "metadata": {},
   "outputs": [],
   "source": [
    " #Step 4: View All Employees\n",
    "def view_employees():\n",
    "    if not employees:\n",
    "        print(\"No employees available.\")\n",
    "    else:\n",
    "        print(\"\\nEmployee Details:\")\n",
    "        print(f\"{'ID':<10}{'Name':<20}{'Age':<10}{'Department':<20}{'Salary':<10}\")\n",
    "        print(\"-\" * 70)\n",
    "        for emp_id, details in employees.items():\n",
    "            print(f\"{emp_id:<10}{details['name']:<20}{details['age']:<10}{details['department']:<20}{details['salary']:<10.2f}\")"
   ]
  },
  {
   "cell_type": "code",
   "execution_count": null,
   "id": "580631ec-47c8-45e6-8c14-7de10ff58041",
   "metadata": {},
   "outputs": [],
   "source": [
    "# Step 5: Search for an Employee by ID\n",
    "def search_employee():\n",
    "    try:\n",
    "        emp_id = int(input(\"Enter Employee ID to search: \"))\n",
    "        if emp_id in employees:\n",
    "            details = employees[emp_id]\n",
    "            print(\"\\nEmployee Found:\")\n",
    "            print(f\"Name: {details['name']}\")\n",
    "            print(f\"Age: {details['age']}\")\n",
    "            print(f\"Department: {details['department']}\")\n",
    "            print(f\"Salary: {details['salary']:.2f}\")\n",
    "        else:\n",
    "            print(\"Employee not found.\")\n",
    "    except ValueError:\n",
    "        print(\"Invalid input. Please enter a numeric Employee ID.\")"
   ]
  },
  {
   "cell_type": "code",
   "execution_count": null,
   "id": "eed1a063-7f2d-42e5-b287-312a18b13a65",
   "metadata": {},
   "outputs": [],
   "source": [
    "# Step 6: Exit\n",
    "if __name__ == \"__main__\":\n",
    "    main_menu()"
   ]
  },
  {
   "cell_type": "code",
   "execution_count": null,
   "id": "e253d8dc-b0b3-4b79-aab1-a30deadeeaa2",
   "metadata": {},
   "outputs": [],
   "source": []
  },
  {
   "cell_type": "code",
   "execution_count": null,
   "id": "de986251-a6f0-4972-8eaa-e8389a659626",
   "metadata": {},
   "outputs": [],
   "source": []
  },
  {
   "cell_type": "code",
   "execution_count": null,
   "id": "d1998198-590f-46e1-b590-4b99e7d4f390",
   "metadata": {},
   "outputs": [],
   "source": []
  }
 ],
 "metadata": {
  "kernelspec": {
   "display_name": "Python 3 (ipykernel)",
   "language": "python",
   "name": "python3"
  },
  "language_info": {
   "codemirror_mode": {
    "name": "ipython",
    "version": 3
   },
   "file_extension": ".py",
   "mimetype": "text/x-python",
   "name": "python",
   "nbconvert_exporter": "python",
   "pygments_lexer": "ipython3",
   "version": "3.11.7"
  }
 },
 "nbformat": 4,
 "nbformat_minor": 5
}
